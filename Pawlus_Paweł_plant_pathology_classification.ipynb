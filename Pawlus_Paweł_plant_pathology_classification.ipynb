{
 "cells": [
  {
   "cell_type": "code",
   "execution_count": 119,
   "id": "deed1f2d",
   "metadata": {},
   "outputs": [],
   "source": [
    "import pandas as pd\n",
    "import numpy as np\n",
    "import tqdm\n",
    "from keras.preprocessing import image\n",
    "from sklearn.model_selection import train_test_split\n",
    "from keras.callbacks import ReduceLROnPlateau, EarlyStopping, ModelCheckpoint\n",
    "from keras.models import Sequential\n",
    "from keras.layers import Dense, Dropout, Flatten\n",
    "from keras.layers import Conv2D, MaxPooling2D\n",
    "from keras.layers import BatchNormalization\n",
    "from tensorflow.keras import regularizers\n",
    "import glob\n",
    "import matplotlib.pyplot as plt"
   ]
  },
  {
   "cell_type": "markdown",
   "id": "7b79c91c",
   "metadata": {},
   "source": [
    "# Data load"
   ]
  },
  {
   "cell_type": "code",
   "execution_count": 2,
   "id": "2d852501",
   "metadata": {},
   "outputs": [],
   "source": [
    "data = pd.read_csv('train.csv')"
   ]
  },
  {
   "cell_type": "code",
   "execution_count": 135,
   "id": "16efe5ae",
   "metadata": {},
   "outputs": [
    {
     "data": {
      "text/html": [
       "<div>\n",
       "<style scoped>\n",
       "    .dataframe tbody tr th:only-of-type {\n",
       "        vertical-align: middle;\n",
       "    }\n",
       "\n",
       "    .dataframe tbody tr th {\n",
       "        vertical-align: top;\n",
       "    }\n",
       "\n",
       "    .dataframe thead th {\n",
       "        text-align: right;\n",
       "    }\n",
       "</style>\n",
       "<table border=\"1\" class=\"dataframe\">\n",
       "  <thead>\n",
       "    <tr style=\"text-align: right;\">\n",
       "      <th></th>\n",
       "      <th>image_id</th>\n",
       "      <th>healthy</th>\n",
       "      <th>multiple_diseases</th>\n",
       "      <th>rust</th>\n",
       "      <th>scab</th>\n",
       "    </tr>\n",
       "  </thead>\n",
       "  <tbody>\n",
       "    <tr>\n",
       "      <th>1816</th>\n",
       "      <td>Train_1816</td>\n",
       "      <td>0</td>\n",
       "      <td>0</td>\n",
       "      <td>0</td>\n",
       "      <td>1</td>\n",
       "    </tr>\n",
       "    <tr>\n",
       "      <th>1817</th>\n",
       "      <td>Train_1817</td>\n",
       "      <td>1</td>\n",
       "      <td>0</td>\n",
       "      <td>0</td>\n",
       "      <td>0</td>\n",
       "    </tr>\n",
       "    <tr>\n",
       "      <th>1818</th>\n",
       "      <td>Train_1818</td>\n",
       "      <td>1</td>\n",
       "      <td>0</td>\n",
       "      <td>0</td>\n",
       "      <td>0</td>\n",
       "    </tr>\n",
       "    <tr>\n",
       "      <th>1819</th>\n",
       "      <td>Train_1819</td>\n",
       "      <td>0</td>\n",
       "      <td>0</td>\n",
       "      <td>1</td>\n",
       "      <td>0</td>\n",
       "    </tr>\n",
       "    <tr>\n",
       "      <th>1820</th>\n",
       "      <td>Train_1820</td>\n",
       "      <td>0</td>\n",
       "      <td>0</td>\n",
       "      <td>0</td>\n",
       "      <td>1</td>\n",
       "    </tr>\n",
       "  </tbody>\n",
       "</table>\n",
       "</div>"
      ],
      "text/plain": [
       "        image_id  healthy  multiple_diseases  rust  scab\n",
       "1816  Train_1816        0                  0     0     1\n",
       "1817  Train_1817        1                  0     0     0\n",
       "1818  Train_1818        1                  0     0     0\n",
       "1819  Train_1819        0                  0     1     0\n",
       "1820  Train_1820        0                  0     0     1"
      ]
     },
     "execution_count": 135,
     "metadata": {},
     "output_type": "execute_result"
    }
   ],
   "source": [
    "data.tail()"
   ]
  },
  {
   "cell_type": "code",
   "execution_count": 4,
   "id": "bdb7b9f4",
   "metadata": {},
   "outputs": [],
   "source": [
    "#samples = 1000"
   ]
  },
  {
   "cell_type": "code",
   "execution_count": 5,
   "id": "48a92da6",
   "metadata": {},
   "outputs": [],
   "source": [
    "#data = data[:samples]"
   ]
  },
  {
   "cell_type": "code",
   "execution_count": 6,
   "id": "ffe071ca",
   "metadata": {},
   "outputs": [],
   "source": [
    "train_dir = '/Users/pawelpawlus/Documents/asseco/plant_pathology_classification/images/'\n"
   ]
  },
  {
   "cell_type": "code",
   "execution_count": 7,
   "id": "bc8c82bb",
   "metadata": {},
   "outputs": [],
   "source": [
    "labels = data[['healthy','multiple_diseases','rust','scab']]"
   ]
  },
  {
   "cell_type": "code",
   "execution_count": 8,
   "id": "09ae7e3b",
   "metadata": {},
   "outputs": [
    {
     "data": {
      "text/html": [
       "<div>\n",
       "<style scoped>\n",
       "    .dataframe tbody tr th:only-of-type {\n",
       "        vertical-align: middle;\n",
       "    }\n",
       "\n",
       "    .dataframe tbody tr th {\n",
       "        vertical-align: top;\n",
       "    }\n",
       "\n",
       "    .dataframe thead th {\n",
       "        text-align: right;\n",
       "    }\n",
       "</style>\n",
       "<table border=\"1\" class=\"dataframe\">\n",
       "  <thead>\n",
       "    <tr style=\"text-align: right;\">\n",
       "      <th></th>\n",
       "      <th>healthy</th>\n",
       "      <th>multiple_diseases</th>\n",
       "      <th>rust</th>\n",
       "      <th>scab</th>\n",
       "    </tr>\n",
       "  </thead>\n",
       "  <tbody>\n",
       "    <tr>\n",
       "      <th>0</th>\n",
       "      <td>0</td>\n",
       "      <td>0</td>\n",
       "      <td>0</td>\n",
       "      <td>1</td>\n",
       "    </tr>\n",
       "    <tr>\n",
       "      <th>1</th>\n",
       "      <td>0</td>\n",
       "      <td>1</td>\n",
       "      <td>0</td>\n",
       "      <td>0</td>\n",
       "    </tr>\n",
       "    <tr>\n",
       "      <th>2</th>\n",
       "      <td>1</td>\n",
       "      <td>0</td>\n",
       "      <td>0</td>\n",
       "      <td>0</td>\n",
       "    </tr>\n",
       "    <tr>\n",
       "      <th>3</th>\n",
       "      <td>0</td>\n",
       "      <td>0</td>\n",
       "      <td>1</td>\n",
       "      <td>0</td>\n",
       "    </tr>\n",
       "    <tr>\n",
       "      <th>4</th>\n",
       "      <td>1</td>\n",
       "      <td>0</td>\n",
       "      <td>0</td>\n",
       "      <td>0</td>\n",
       "    </tr>\n",
       "    <tr>\n",
       "      <th>...</th>\n",
       "      <td>...</td>\n",
       "      <td>...</td>\n",
       "      <td>...</td>\n",
       "      <td>...</td>\n",
       "    </tr>\n",
       "    <tr>\n",
       "      <th>1816</th>\n",
       "      <td>0</td>\n",
       "      <td>0</td>\n",
       "      <td>0</td>\n",
       "      <td>1</td>\n",
       "    </tr>\n",
       "    <tr>\n",
       "      <th>1817</th>\n",
       "      <td>1</td>\n",
       "      <td>0</td>\n",
       "      <td>0</td>\n",
       "      <td>0</td>\n",
       "    </tr>\n",
       "    <tr>\n",
       "      <th>1818</th>\n",
       "      <td>1</td>\n",
       "      <td>0</td>\n",
       "      <td>0</td>\n",
       "      <td>0</td>\n",
       "    </tr>\n",
       "    <tr>\n",
       "      <th>1819</th>\n",
       "      <td>0</td>\n",
       "      <td>0</td>\n",
       "      <td>1</td>\n",
       "      <td>0</td>\n",
       "    </tr>\n",
       "    <tr>\n",
       "      <th>1820</th>\n",
       "      <td>0</td>\n",
       "      <td>0</td>\n",
       "      <td>0</td>\n",
       "      <td>1</td>\n",
       "    </tr>\n",
       "  </tbody>\n",
       "</table>\n",
       "<p>1821 rows × 4 columns</p>\n",
       "</div>"
      ],
      "text/plain": [
       "      healthy  multiple_diseases  rust  scab\n",
       "0           0                  0     0     1\n",
       "1           0                  1     0     0\n",
       "2           1                  0     0     0\n",
       "3           0                  0     1     0\n",
       "4           1                  0     0     0\n",
       "...       ...                ...   ...   ...\n",
       "1816        0                  0     0     1\n",
       "1817        1                  0     0     0\n",
       "1818        1                  0     0     0\n",
       "1819        0                  0     1     0\n",
       "1820        0                  0     0     1\n",
       "\n",
       "[1821 rows x 4 columns]"
      ]
     },
     "execution_count": 8,
     "metadata": {},
     "output_type": "execute_result"
    }
   ],
   "source": [
    "labels"
   ]
  },
  {
   "cell_type": "code",
   "execution_count": 9,
   "id": "162f942b",
   "metadata": {},
   "outputs": [],
   "source": [
    "labels_array = np.array(labels)"
   ]
  },
  {
   "cell_type": "code",
   "execution_count": 10,
   "id": "3a5711a4",
   "metadata": {},
   "outputs": [
    {
     "data": {
      "text/plain": [
       "(1821, 4)"
      ]
     },
     "execution_count": 10,
     "metadata": {},
     "output_type": "execute_result"
    }
   ],
   "source": [
    "labels_array.shape"
   ]
  },
  {
   "cell_type": "code",
   "execution_count": 11,
   "id": "75afe864",
   "metadata": {
    "scrolled": true
   },
   "outputs": [
    {
     "data": {
      "text/html": [
       "<div>\n",
       "<style scoped>\n",
       "    .dataframe tbody tr th:only-of-type {\n",
       "        vertical-align: middle;\n",
       "    }\n",
       "\n",
       "    .dataframe tbody tr th {\n",
       "        vertical-align: top;\n",
       "    }\n",
       "\n",
       "    .dataframe thead th {\n",
       "        text-align: right;\n",
       "    }\n",
       "</style>\n",
       "<table border=\"1\" class=\"dataframe\">\n",
       "  <thead>\n",
       "    <tr style=\"text-align: right;\">\n",
       "      <th></th>\n",
       "      <th>healthy</th>\n",
       "      <th>multiple_diseases</th>\n",
       "      <th>rust</th>\n",
       "      <th>scab</th>\n",
       "    </tr>\n",
       "  </thead>\n",
       "  <tbody>\n",
       "    <tr>\n",
       "      <th>count</th>\n",
       "      <td>1821.000000</td>\n",
       "      <td>1821.000000</td>\n",
       "      <td>1821.000000</td>\n",
       "      <td>1821.000000</td>\n",
       "    </tr>\n",
       "    <tr>\n",
       "      <th>mean</th>\n",
       "      <td>0.283361</td>\n",
       "      <td>0.049973</td>\n",
       "      <td>0.341571</td>\n",
       "      <td>0.325096</td>\n",
       "    </tr>\n",
       "    <tr>\n",
       "      <th>std</th>\n",
       "      <td>0.450754</td>\n",
       "      <td>0.217948</td>\n",
       "      <td>0.474367</td>\n",
       "      <td>0.468539</td>\n",
       "    </tr>\n",
       "    <tr>\n",
       "      <th>min</th>\n",
       "      <td>0.000000</td>\n",
       "      <td>0.000000</td>\n",
       "      <td>0.000000</td>\n",
       "      <td>0.000000</td>\n",
       "    </tr>\n",
       "    <tr>\n",
       "      <th>25%</th>\n",
       "      <td>0.000000</td>\n",
       "      <td>0.000000</td>\n",
       "      <td>0.000000</td>\n",
       "      <td>0.000000</td>\n",
       "    </tr>\n",
       "    <tr>\n",
       "      <th>50%</th>\n",
       "      <td>0.000000</td>\n",
       "      <td>0.000000</td>\n",
       "      <td>0.000000</td>\n",
       "      <td>0.000000</td>\n",
       "    </tr>\n",
       "    <tr>\n",
       "      <th>75%</th>\n",
       "      <td>1.000000</td>\n",
       "      <td>0.000000</td>\n",
       "      <td>1.000000</td>\n",
       "      <td>1.000000</td>\n",
       "    </tr>\n",
       "    <tr>\n",
       "      <th>max</th>\n",
       "      <td>1.000000</td>\n",
       "      <td>1.000000</td>\n",
       "      <td>1.000000</td>\n",
       "      <td>1.000000</td>\n",
       "    </tr>\n",
       "  </tbody>\n",
       "</table>\n",
       "</div>"
      ],
      "text/plain": [
       "           healthy  multiple_diseases         rust         scab\n",
       "count  1821.000000        1821.000000  1821.000000  1821.000000\n",
       "mean      0.283361           0.049973     0.341571     0.325096\n",
       "std       0.450754           0.217948     0.474367     0.468539\n",
       "min       0.000000           0.000000     0.000000     0.000000\n",
       "25%       0.000000           0.000000     0.000000     0.000000\n",
       "50%       0.000000           0.000000     0.000000     0.000000\n",
       "75%       1.000000           0.000000     1.000000     1.000000\n",
       "max       1.000000           1.000000     1.000000     1.000000"
      ]
     },
     "execution_count": 11,
     "metadata": {},
     "output_type": "execute_result"
    }
   ],
   "source": [
    "data.describe()"
   ]
  },
  {
   "cell_type": "code",
   "execution_count": 12,
   "id": "652e1237",
   "metadata": {},
   "outputs": [
    {
     "data": {
      "text/plain": [
       "range(0, 1821)"
      ]
     },
     "execution_count": 12,
     "metadata": {},
     "output_type": "execute_result"
    }
   ],
   "source": [
    "range(data.shape[0])"
   ]
  },
  {
   "cell_type": "code",
   "execution_count": 13,
   "id": "f9ff73b7",
   "metadata": {},
   "outputs": [
    {
     "name": "stderr",
     "output_type": "stream",
     "text": [
      "100%|██████████| 1821/1821 [00:36<00:00, 49.47it/s]\n"
     ]
    }
   ],
   "source": [
    "image_size = 256\n",
    "x = []\n",
    "for i in tqdm.tqdm(range(data.shape[0])):\n",
    "    img = image.load_img(train_dir+data['image_id'][i]+'.jpg',color_mode='rgb',target_size=(image_size,image_size))\n",
    "    img= image.img_to_array(img)\n",
    "    img= img/255\n",
    "    x.append(img)"
   ]
  },
  {
   "cell_type": "code",
   "execution_count": 14,
   "id": "72ff0342",
   "metadata": {},
   "outputs": [],
   "source": [
    "x_array =np.array(x)"
   ]
  },
  {
   "cell_type": "code",
   "execution_count": 15,
   "id": "8871f31c",
   "metadata": {},
   "outputs": [
    {
     "data": {
      "text/plain": [
       "(1821, 256, 256, 3)"
      ]
     },
     "execution_count": 15,
     "metadata": {},
     "output_type": "execute_result"
    }
   ],
   "source": [
    "x_array.shape"
   ]
  },
  {
   "cell_type": "markdown",
   "id": "e9954d9e",
   "metadata": {},
   "source": [
    "# Data split for training"
   ]
  },
  {
   "cell_type": "code",
   "execution_count": 16,
   "id": "0ce8caf9",
   "metadata": {},
   "outputs": [],
   "source": [
    "x_train,x_val,y_train,y_val = train_test_split(x_array,labels_array, test_size=0.2, random_state=42)"
   ]
  },
  {
   "cell_type": "code",
   "execution_count": 18,
   "id": "036059cb",
   "metadata": {},
   "outputs": [
    {
     "data": {
      "text/plain": [
       "((1456, 256, 256, 3), (365, 256, 256, 3), (1456, 4), (365, 4))"
      ]
     },
     "execution_count": 18,
     "metadata": {},
     "output_type": "execute_result"
    }
   ],
   "source": [
    "x_train.shape, x_val.shape, y_train.shape, y_val.shape"
   ]
  },
  {
   "cell_type": "code",
   "execution_count": 19,
   "id": "502102b3",
   "metadata": {},
   "outputs": [
    {
     "name": "stderr",
     "output_type": "stream",
     "text": [
      "/opt/anaconda3/lib/python3.7/site-packages/sklearn/utils/validation.py:72: FutureWarning: Pass classes=[0 1 2 3] as keyword args. From version 1.0 (renaming of 0.25) passing these as positional arguments will result in an error\n",
      "  \"will result in an error\", FutureWarning)\n"
     ]
    },
    {
     "data": {
      "text/plain": [
       "((2008, 256, 256, 3), array([502, 502, 502, 502]))"
      ]
     },
     "execution_count": 19,
     "metadata": {},
     "output_type": "execute_result"
    }
   ],
   "source": [
    "from imblearn.over_sampling import RandomOverSampler\n",
    "\n",
    "ros = RandomOverSampler(random_state=42)\n",
    "\n",
    "x_train, y_train = ros.fit_resample(x_train.reshape((-1, image_size * image_size * 3)), y_train)\n",
    "x_train = x_train.reshape((-1, image_size, image_size, 3))\n",
    "x_train.shape, y_train.sum(axis=0)"
   ]
  },
  {
   "cell_type": "code",
   "execution_count": 146,
   "id": "4250adee",
   "metadata": {},
   "outputs": [],
   "source": [
    "oversampled = pd.DataFrame(y_train)"
   ]
  },
  {
   "cell_type": "code",
   "execution_count": 155,
   "id": "8dcaedbe",
   "metadata": {
    "scrolled": true
   },
   "outputs": [
    {
     "data": {
      "text/html": [
       "<div>\n",
       "<style scoped>\n",
       "    .dataframe tbody tr th:only-of-type {\n",
       "        vertical-align: middle;\n",
       "    }\n",
       "\n",
       "    .dataframe tbody tr th {\n",
       "        vertical-align: top;\n",
       "    }\n",
       "\n",
       "    .dataframe thead th {\n",
       "        text-align: right;\n",
       "    }\n",
       "</style>\n",
       "<table border=\"1\" class=\"dataframe\">\n",
       "  <thead>\n",
       "    <tr style=\"text-align: right;\">\n",
       "      <th></th>\n",
       "      <th>0</th>\n",
       "      <th>1</th>\n",
       "      <th>2</th>\n",
       "      <th>3</th>\n",
       "    </tr>\n",
       "  </thead>\n",
       "  <tbody>\n",
       "    <tr>\n",
       "      <th>count</th>\n",
       "      <td>2008.000000</td>\n",
       "      <td>2008.000000</td>\n",
       "      <td>2008.000000</td>\n",
       "      <td>2008.000000</td>\n",
       "    </tr>\n",
       "    <tr>\n",
       "      <th>mean</th>\n",
       "      <td>0.250000</td>\n",
       "      <td>0.250000</td>\n",
       "      <td>0.250000</td>\n",
       "      <td>0.250000</td>\n",
       "    </tr>\n",
       "    <tr>\n",
       "      <th>std</th>\n",
       "      <td>0.433121</td>\n",
       "      <td>0.433121</td>\n",
       "      <td>0.433121</td>\n",
       "      <td>0.433121</td>\n",
       "    </tr>\n",
       "    <tr>\n",
       "      <th>min</th>\n",
       "      <td>0.000000</td>\n",
       "      <td>0.000000</td>\n",
       "      <td>0.000000</td>\n",
       "      <td>0.000000</td>\n",
       "    </tr>\n",
       "    <tr>\n",
       "      <th>25%</th>\n",
       "      <td>0.000000</td>\n",
       "      <td>0.000000</td>\n",
       "      <td>0.000000</td>\n",
       "      <td>0.000000</td>\n",
       "    </tr>\n",
       "    <tr>\n",
       "      <th>50%</th>\n",
       "      <td>0.000000</td>\n",
       "      <td>0.000000</td>\n",
       "      <td>0.000000</td>\n",
       "      <td>0.000000</td>\n",
       "    </tr>\n",
       "    <tr>\n",
       "      <th>75%</th>\n",
       "      <td>0.250000</td>\n",
       "      <td>0.250000</td>\n",
       "      <td>0.250000</td>\n",
       "      <td>0.250000</td>\n",
       "    </tr>\n",
       "    <tr>\n",
       "      <th>max</th>\n",
       "      <td>1.000000</td>\n",
       "      <td>1.000000</td>\n",
       "      <td>1.000000</td>\n",
       "      <td>1.000000</td>\n",
       "    </tr>\n",
       "  </tbody>\n",
       "</table>\n",
       "</div>"
      ],
      "text/plain": [
       "                 0            1            2            3\n",
       "count  2008.000000  2008.000000  2008.000000  2008.000000\n",
       "mean      0.250000     0.250000     0.250000     0.250000\n",
       "std       0.433121     0.433121     0.433121     0.433121\n",
       "min       0.000000     0.000000     0.000000     0.000000\n",
       "25%       0.000000     0.000000     0.000000     0.000000\n",
       "50%       0.000000     0.000000     0.000000     0.000000\n",
       "75%       0.250000     0.250000     0.250000     0.250000\n",
       "max       1.000000     1.000000     1.000000     1.000000"
      ]
     },
     "execution_count": 155,
     "metadata": {},
     "output_type": "execute_result"
    }
   ],
   "source": [
    "oversampled.describe()"
   ]
  },
  {
   "cell_type": "code",
   "execution_count": 151,
   "id": "617d90a5",
   "metadata": {},
   "outputs": [
    {
     "data": {
      "text/html": [
       "<div>\n",
       "<style scoped>\n",
       "    .dataframe tbody tr th:only-of-type {\n",
       "        vertical-align: middle;\n",
       "    }\n",
       "\n",
       "    .dataframe tbody tr th {\n",
       "        vertical-align: top;\n",
       "    }\n",
       "\n",
       "    .dataframe thead th {\n",
       "        text-align: right;\n",
       "    }\n",
       "</style>\n",
       "<table border=\"1\" class=\"dataframe\">\n",
       "  <thead>\n",
       "    <tr style=\"text-align: right;\">\n",
       "      <th></th>\n",
       "      <th>healthy</th>\n",
       "      <th>multiple_diseases</th>\n",
       "      <th>rust</th>\n",
       "      <th>scab</th>\n",
       "    </tr>\n",
       "  </thead>\n",
       "  <tbody>\n",
       "    <tr>\n",
       "      <th>count</th>\n",
       "      <td>1821.000000</td>\n",
       "      <td>1821.000000</td>\n",
       "      <td>1821.000000</td>\n",
       "      <td>1821.000000</td>\n",
       "    </tr>\n",
       "    <tr>\n",
       "      <th>mean</th>\n",
       "      <td>0.283361</td>\n",
       "      <td>0.049973</td>\n",
       "      <td>0.341571</td>\n",
       "      <td>0.325096</td>\n",
       "    </tr>\n",
       "    <tr>\n",
       "      <th>std</th>\n",
       "      <td>0.450754</td>\n",
       "      <td>0.217948</td>\n",
       "      <td>0.474367</td>\n",
       "      <td>0.468539</td>\n",
       "    </tr>\n",
       "    <tr>\n",
       "      <th>min</th>\n",
       "      <td>0.000000</td>\n",
       "      <td>0.000000</td>\n",
       "      <td>0.000000</td>\n",
       "      <td>0.000000</td>\n",
       "    </tr>\n",
       "    <tr>\n",
       "      <th>25%</th>\n",
       "      <td>0.000000</td>\n",
       "      <td>0.000000</td>\n",
       "      <td>0.000000</td>\n",
       "      <td>0.000000</td>\n",
       "    </tr>\n",
       "    <tr>\n",
       "      <th>50%</th>\n",
       "      <td>0.000000</td>\n",
       "      <td>0.000000</td>\n",
       "      <td>0.000000</td>\n",
       "      <td>0.000000</td>\n",
       "    </tr>\n",
       "    <tr>\n",
       "      <th>75%</th>\n",
       "      <td>1.000000</td>\n",
       "      <td>0.000000</td>\n",
       "      <td>1.000000</td>\n",
       "      <td>1.000000</td>\n",
       "    </tr>\n",
       "    <tr>\n",
       "      <th>max</th>\n",
       "      <td>1.000000</td>\n",
       "      <td>1.000000</td>\n",
       "      <td>1.000000</td>\n",
       "      <td>1.000000</td>\n",
       "    </tr>\n",
       "  </tbody>\n",
       "</table>\n",
       "</div>"
      ],
      "text/plain": [
       "           healthy  multiple_diseases         rust         scab\n",
       "count  1821.000000        1821.000000  1821.000000  1821.000000\n",
       "mean      0.283361           0.049973     0.341571     0.325096\n",
       "std       0.450754           0.217948     0.474367     0.468539\n",
       "min       0.000000           0.000000     0.000000     0.000000\n",
       "25%       0.000000           0.000000     0.000000     0.000000\n",
       "50%       0.000000           0.000000     0.000000     0.000000\n",
       "75%       1.000000           0.000000     1.000000     1.000000\n",
       "max       1.000000           1.000000     1.000000     1.000000"
      ]
     },
     "execution_count": 151,
     "metadata": {},
     "output_type": "execute_result"
    }
   ],
   "source": [
    "data.describe()"
   ]
  },
  {
   "cell_type": "code",
   "execution_count": null,
   "id": "c0d94ee5",
   "metadata": {},
   "outputs": [],
   "source": [
    "#Używam metody RandomOverSampler w celu ujednolicenia danych. Porównując dane przed i po, teraz są bardziej zbalansowane (wartość mean)"
   ]
  },
  {
   "cell_type": "markdown",
   "id": "951fbf1a",
   "metadata": {},
   "source": [
    "# Image Processing"
   ]
  },
  {
   "cell_type": "code",
   "execution_count": 84,
   "id": "850bdb61",
   "metadata": {},
   "outputs": [],
   "source": [
    "batch_size = 16\n",
    "train_data_gen = image.ImageDataGenerator(\n",
    "    featurewise_center=True,\n",
    "    rotation_range=5,\n",
    "    zoom_range = (0.6,0.7),\n",
    "    brightness_range=(0.5,1.5))"
   ]
  },
  {
   "cell_type": "code",
   "execution_count": 85,
   "id": "be563250",
   "metadata": {},
   "outputs": [],
   "source": [
    "#train_data_gen.fit(x_train)"
   ]
  },
  {
   "cell_type": "code",
   "execution_count": 86,
   "id": "41ddb69c",
   "metadata": {},
   "outputs": [],
   "source": [
    "train_generator = train_data_gen.flow(x_train,\n",
    "                                      y_train,\n",
    "                                     batch_size=batch_size)"
   ]
  },
  {
   "cell_type": "code",
   "execution_count": 104,
   "id": "6683ddcb",
   "metadata": {},
   "outputs": [],
   "source": [
    "preview_dir ='/Users/pawelpawlus/Documents/asseco/plant_pathology_classification/preview/'"
   ]
  },
  {
   "cell_type": "code",
   "execution_count": 110,
   "id": "02880f21",
   "metadata": {},
   "outputs": [
    {
     "name": "stderr",
     "output_type": "stream",
     "text": [
      "/opt/anaconda3/lib/python3.7/site-packages/keras_preprocessing/image/image_data_generator.py:720: UserWarning: This ImageDataGenerator specifies `featurewise_center`, but it hasn't been fit on any training data. Fit it first by calling `.fit(numpy_data)`.\n",
      "  warnings.warn('This ImageDataGenerator specifies '\n"
     ]
    }
   ],
   "source": [
    "l=0\n",
    "for batch in train_data_gen.flow(x_train,\n",
    "    y_train,\n",
    "    batch_size=1,\n",
    "    save_to_dir='/Users/pawelpawlus/Documents/asseco/plant_pathology_classification/preview/',\n",
    "    save_format='jpeg',\n",
    "    save_prefix='train'):\n",
    "    l+=1\n",
    "    if l < 3:\n",
    "        continue\n",
    "    else:\n",
    "        break\n"
   ]
  },
  {
   "cell_type": "code",
   "execution_count": 120,
   "id": "92e68db8",
   "metadata": {},
   "outputs": [
    {
     "data": {
      "text/plain": [
       "['/Users/pawelpawlus/Documents/asseco/plant_pathology_classification/preview/train_1997_7708.jpeg',\n",
       " '/Users/pawelpawlus/Documents/asseco/plant_pathology_classification/preview/train_394_5818.jpeg',\n",
       " '/Users/pawelpawlus/Documents/asseco/plant_pathology_classification/preview/train_310_5854.jpeg']"
      ]
     },
     "execution_count": 120,
     "metadata": {},
     "output_type": "execute_result"
    }
   ],
   "source": [
    "previews=[]\n",
    "for filename in glob.glob('/Users/pawelpawlus/Documents/asseco/plant_pathology_classification/preview/*.jpeg'): \n",
    "    previews.append(filename)\n",
    "previews"
   ]
  },
  {
   "cell_type": "code",
   "execution_count": 121,
   "id": "51fa70b9",
   "metadata": {},
   "outputs": [
    {
     "name": "stderr",
     "output_type": "stream",
     "text": [
      "100%|██████████| 3/3 [00:00<00:00, 243.07it/s]\n"
     ]
    }
   ],
   "source": [
    "img_prev =[]\n",
    "for i in tqdm.tqdm(range(len(previews))):\n",
    "    img = image.load_img(previews[i])\n",
    "    img= image.img_to_array(img)\n",
    "    img= img/255\n",
    "    img_prev.append(img)\n",
    "                   "
   ]
  },
  {
   "cell_type": "code",
   "execution_count": 126,
   "id": "8b009ac1",
   "metadata": {},
   "outputs": [
    {
     "data": {
      "image/png": "[encoded data removed]",
      "text/plain": [
       "<Figure size 576x576 with 3 Axes>"
      ]
     },
     "metadata": {
      "needs_background": "light"
     },
     "output_type": "display_data"
    }
   ],
   "source": [
    "fig=plt.figure(figsize=(8, 8))\n",
    "for i in range(len(img_prev)):\n",
    "    img = img_prev[i]\n",
    "    fig.add_subplot(1, 3, i+1)\n",
    "    plt.imshow(img)\n",
    "plt.show()"
   ]
  },
  {
   "cell_type": "code",
   "execution_count": null,
   "id": "9c479f13",
   "metadata": {},
   "outputs": [],
   "source": [
    "#Używam ImageDataGenerator w celu zróżnicowania uczącego zestawu danych poprzez tworzenie zmodyfikowanych wersji obrazów w zestawie danych."
   ]
  },
  {
   "cell_type": "markdown",
   "id": "7218db8a",
   "metadata": {},
   "source": [
    "# Model preparation"
   ]
  },
  {
   "cell_type": "code",
   "execution_count": 127,
   "id": "be233fc4",
   "metadata": {},
   "outputs": [],
   "source": [
    "rlr = ReduceLROnPlateau(patience=10, verbose=1)\n",
    "es = EarlyStopping(patience=35, restore_best_weights=True, verbose=1)\n",
    "mc = ModelCheckpoint('model.h5', save_best_only=True, verbose=0)\n",
    "#rlr - cykliczne zmniejszenie learning rate \n",
    "#es - zatrzyamnie modelu kiedy parametry się nie poprawiają\n",
    "#mc zapisanie modelu z najlepszymi dobranymi parametrami"
   ]
  },
  {
   "cell_type": "code",
   "execution_count": 128,
   "id": "8d0dcea7",
   "metadata": {},
   "outputs": [],
   "source": [
    "reg = 0.0005\n",
    "model = Sequential()\n",
    "model.add(Conv2D(filters=64,strides=2, kernel_size=(3,3),input_shape=(image_size,image_size,3),padding='same', activation='relu', kernel_regularizer=regularizers.l2(reg)))\n",
    "model.add(MaxPooling2D(pool_size=(2,2)))\n",
    "model.add(Dropout(0.25))\n",
    "\n",
    "model.add(Conv2D(filters=128,strides = 2,kernel_size=(3,3),activation='relu',padding = 'same',kernel_regularizer=regularizers.l2(reg)))\n",
    "model.add(MaxPooling2D(pool_size=(2,2)))\n",
    "model.add(Dropout(0.25))\n",
    "\n",
    "model.add(Conv2D(filters=32,kernel_size=(5,5),activation='relu',padding='same',kernel_regularizer=regularizers.l2(reg)))\n",
    "model.add(MaxPooling2D(pool_size=(2,2)))\n",
    "model.add(Dropout(0.25))\n",
    "model.add(BatchNormalization())\n",
    "\n",
    "model.add(Flatten())\n",
    "model.add(Dense(256,activation='relu'))\n",
    "model.add(Dropout(0.25))\n",
    "model.add(Dense(64,activation='relu'))\n",
    "model.add(Dropout(0.25))\n",
    "model.add(Dense(16,activation='relu'))\n",
    "model.add(BatchNormalization())\n",
    "\n",
    "model.add(Dense(4,activation='softmax'))\n"
   ]
  },
  {
   "cell_type": "code",
   "execution_count": 129,
   "id": "da3eceb8",
   "metadata": {
    "scrolled": true
   },
   "outputs": [
    {
     "name": "stdout",
     "output_type": "stream",
     "text": [
      "Model: \"sequential_2\"\n",
      "_________________________________________________________________\n",
      "Layer (type)                 Output Shape              Param #   \n",
      "=================================================================\n",
      "conv2d_4 (Conv2D)            (None, 128, 128, 64)      1792      \n",
      "_________________________________________________________________\n",
      "max_pooling2d_4 (MaxPooling2 (None, 64, 64, 64)        0         \n",
      "_________________________________________________________________\n",
      "dropout_6 (Dropout)          (None, 64, 64, 64)        0         \n",
      "_________________________________________________________________\n",
      "conv2d_5 (Conv2D)            (None, 32, 32, 128)       73856     \n",
      "_________________________________________________________________\n",
      "max_pooling2d_5 (MaxPooling2 (None, 16, 16, 128)       0         \n",
      "_________________________________________________________________\n",
      "dropout_7 (Dropout)          (None, 16, 16, 128)       0         \n",
      "_________________________________________________________________\n",
      "conv2d_6 (Conv2D)            (None, 16, 16, 32)        102432    \n",
      "_________________________________________________________________\n",
      "max_pooling2d_6 (MaxPooling2 (None, 8, 8, 32)          0         \n",
      "_________________________________________________________________\n",
      "dropout_8 (Dropout)          (None, 8, 8, 32)          0         \n",
      "_________________________________________________________________\n",
      "batch_normalization_5 (Batch (None, 8, 8, 32)          128       \n",
      "_________________________________________________________________\n",
      "flatten_2 (Flatten)          (None, 2048)              0         \n",
      "_________________________________________________________________\n",
      "dense_5 (Dense)              (None, 256)               524544    \n",
      "_________________________________________________________________\n",
      "dropout_9 (Dropout)          (None, 256)               0         \n",
      "_________________________________________________________________\n",
      "dense_6 (Dense)              (None, 64)                16448     \n",
      "_________________________________________________________________\n",
      "dropout_10 (Dropout)         (None, 64)                0         \n",
      "_________________________________________________________________\n",
      "dense_7 (Dense)              (None, 16)                1040      \n",
      "_________________________________________________________________\n",
      "batch_normalization_6 (Batch (None, 16)                64        \n",
      "_________________________________________________________________\n",
      "dense_8 (Dense)              (None, 4)                 68        \n",
      "=================================================================\n",
      "Total params: 720,372\n",
      "Trainable params: 720,276\n",
      "Non-trainable params: 96\n",
      "_________________________________________________________________\n"
     ]
    }
   ],
   "source": [
    "model.summary()"
   ]
  },
  {
   "cell_type": "code",
   "execution_count": 130,
   "id": "0ee8c0ea",
   "metadata": {},
   "outputs": [],
   "source": [
    "model.compile(optimizer='rmsprop',loss='categorical_crossentropy',metrics=['accuracy'])"
   ]
  },
  {
   "cell_type": "code",
   "execution_count": 28,
   "id": "35a8364d",
   "metadata": {},
   "outputs": [],
   "source": [
    "#history = model.fit(x_train,y_train,batch_size=batch_size,epochs=50,validation_data=(x_test,y_test),callbacks=[rlr,es,mc])"
   ]
  },
  {
   "cell_type": "code",
   "execution_count": 131,
   "id": "c119cc13",
   "metadata": {
    "scrolled": false
   },
   "outputs": [
    {
     "name": "stderr",
     "output_type": "stream",
     "text": [
      "/opt/anaconda3/lib/python3.7/site-packages/keras_preprocessing/image/image_data_generator.py:720: UserWarning: This ImageDataGenerator specifies `featurewise_center`, but it hasn't been fit on any training data. Fit it first by calling `.fit(numpy_data)`.\n",
      "  warnings.warn('This ImageDataGenerator specifies '\n"
     ]
    },
    {
     "name": "stdout",
     "output_type": "stream",
     "text": [
      "Epoch 1/300\n",
      "125/125 [==============================] - 131s 1s/step - loss: 1.6388 - accuracy: 0.2505 - val_loss: 1.4261 - val_accuracy: 0.2740\n",
      "Epoch 2/300\n",
      "125/125 [==============================] - 140s 1s/step - loss: 1.4727 - accuracy: 0.2505 - val_loss: 1.3675 - val_accuracy: 0.1233\n",
      "Epoch 3/300\n",
      "125/125 [==============================] - 143s 1s/step - loss: 1.4359 - accuracy: 0.2716 - val_loss: 1.3647 - val_accuracy: 0.2685\n",
      "Epoch 4/300\n",
      "125/125 [==============================] - 144s 1s/step - loss: 1.3990 - accuracy: 0.3027 - val_loss: 1.5031 - val_accuracy: 0.2685\n",
      "Epoch 5/300\n",
      "125/125 [==============================] - 142s 1s/step - loss: 1.3815 - accuracy: 0.3399 - val_loss: 1.4186 - val_accuracy: 0.3205\n",
      "Epoch 6/300\n",
      "125/125 [==============================] - 139s 1s/step - loss: 1.3679 - accuracy: 0.3348 - val_loss: 1.0636 - val_accuracy: 0.3342\n",
      "Epoch 7/300\n",
      "125/125 [==============================] - 138s 1s/step - loss: 1.3312 - accuracy: 0.3820 - val_loss: 1.2144 - val_accuracy: 0.4603\n",
      "Epoch 8/300\n",
      "125/125 [==============================] - 139s 1s/step - loss: 1.2626 - accuracy: 0.4312 - val_loss: 1.1483 - val_accuracy: 0.4384\n",
      "Epoch 9/300\n",
      "125/125 [==============================] - 136s 1s/step - loss: 1.1240 - accuracy: 0.5241 - val_loss: 1.2977 - val_accuracy: 0.3753\n",
      "Epoch 10/300\n",
      "125/125 [==============================] - 135s 1s/step - loss: 0.9523 - accuracy: 0.6165 - val_loss: 1.8128 - val_accuracy: 0.4384\n",
      "Epoch 11/300\n",
      "125/125 [==============================] - 135s 1s/step - loss: 0.8136 - accuracy: 0.6750 - val_loss: 0.9213 - val_accuracy: 0.6329\n",
      "Epoch 12/300\n",
      "125/125 [==============================] - 135s 1s/step - loss: 0.7444 - accuracy: 0.7213 - val_loss: 1.4343 - val_accuracy: 0.6630\n",
      "Epoch 13/300\n",
      "125/125 [==============================] - 137s 1s/step - loss: 0.6906 - accuracy: 0.7224 - val_loss: 0.7196 - val_accuracy: 0.5973\n",
      "Epoch 14/300\n",
      "125/125 [==============================] - 138s 1s/step - loss: 0.6304 - accuracy: 0.7405 - val_loss: 0.9214 - val_accuracy: 0.6712\n",
      "Epoch 15/300\n",
      "125/125 [==============================] - 138s 1s/step - loss: 0.5933 - accuracy: 0.7801 - val_loss: 0.6896 - val_accuracy: 0.6986\n",
      "Epoch 16/300\n",
      "125/125 [==============================] - 137s 1s/step - loss: 0.5723 - accuracy: 0.7927 - val_loss: 0.7336 - val_accuracy: 0.7479\n",
      "Epoch 17/300\n",
      "125/125 [==============================] - 137s 1s/step - loss: 0.5467 - accuracy: 0.8095 - val_loss: 1.0513 - val_accuracy: 0.7479\n",
      "Epoch 18/300\n",
      "125/125 [==============================] - 134s 1s/step - loss: 0.5306 - accuracy: 0.8100 - val_loss: 0.4940 - val_accuracy: 0.7370\n",
      "Epoch 19/300\n",
      "125/125 [==============================] - 134s 1s/step - loss: 0.4874 - accuracy: 0.8368 - val_loss: 1.0582 - val_accuracy: 0.7370\n",
      "Epoch 20/300\n",
      "125/125 [==============================] - 135s 1s/step - loss: 0.4410 - accuracy: 0.8415 - val_loss: 0.6516 - val_accuracy: 0.7425\n",
      "Epoch 21/300\n",
      "125/125 [==============================] - 134s 1s/step - loss: 0.4449 - accuracy: 0.8579 - val_loss: 0.3334 - val_accuracy: 0.6959\n",
      "Epoch 22/300\n",
      "125/125 [==============================] - 136s 1s/step - loss: 0.4344 - accuracy: 0.8584 - val_loss: 0.6102 - val_accuracy: 0.7479\n",
      "Epoch 23/300\n",
      "125/125 [==============================] - 139s 1s/step - loss: 0.4258 - accuracy: 0.8589 - val_loss: 0.9741 - val_accuracy: 0.6027\n",
      "Epoch 24/300\n",
      "125/125 [==============================] - 136s 1s/step - loss: 0.3827 - accuracy: 0.8745 - val_loss: 0.7474 - val_accuracy: 0.7562\n",
      "Epoch 25/300\n",
      "125/125 [==============================] - 135s 1s/step - loss: 0.3574 - accuracy: 0.8967 - val_loss: 0.5448 - val_accuracy: 0.6658\n",
      "Epoch 26/300\n",
      "125/125 [==============================] - 135s 1s/step - loss: 0.3919 - accuracy: 0.8785 - val_loss: 0.6411 - val_accuracy: 0.7589\n",
      "Epoch 27/300\n",
      "125/125 [==============================] - 135s 1s/step - loss: 0.3698 - accuracy: 0.8845 - val_loss: 0.5754 - val_accuracy: 0.7726\n",
      "Epoch 28/300\n",
      "125/125 [==============================] - 135s 1s/step - loss: 0.3661 - accuracy: 0.8916 - val_loss: 0.9366 - val_accuracy: 0.7562\n",
      "Epoch 29/300\n",
      "125/125 [==============================] - 140s 1s/step - loss: 0.3519 - accuracy: 0.8956 - val_loss: 1.0731 - val_accuracy: 0.6877\n",
      "Epoch 30/300\n",
      "125/125 [==============================] - 136s 1s/step - loss: 0.3403 - accuracy: 0.9056 - val_loss: 0.5031 - val_accuracy: 0.7425\n",
      "Epoch 31/300\n",
      "125/125 [==============================] - 137s 1s/step - loss: 0.3419 - accuracy: 0.9041 - val_loss: 0.6444 - val_accuracy: 0.7205\n",
      "\n",
      "Epoch 00031: ReduceLROnPlateau reducing learning rate to 0.00010000000474974513.\n",
      "Epoch 32/300\n",
      "125/125 [==============================] - 136s 1s/step - loss: 0.2753 - accuracy: 0.9262 - val_loss: 0.3821 - val_accuracy: 0.7589\n",
      "Epoch 33/300\n",
      "125/125 [==============================] - 137s 1s/step - loss: 0.2514 - accuracy: 0.9365 - val_loss: 0.4677 - val_accuracy: 0.7863\n",
      "Epoch 34/300\n",
      "125/125 [==============================] - 136s 1s/step - loss: 0.2293 - accuracy: 0.9380 - val_loss: 0.3525 - val_accuracy: 0.7918\n",
      "Epoch 35/300\n",
      "125/125 [==============================] - 136s 1s/step - loss: 0.2162 - accuracy: 0.9518 - val_loss: 0.3578 - val_accuracy: 0.8082\n",
      "Epoch 36/300\n",
      "125/125 [==============================] - 135s 1s/step - loss: 0.2026 - accuracy: 0.9613 - val_loss: 0.3870 - val_accuracy: 0.7781\n",
      "Epoch 37/300\n",
      "125/125 [==============================] - 135s 1s/step - loss: 0.2395 - accuracy: 0.9430 - val_loss: 0.2506 - val_accuracy: 0.7836\n",
      "Epoch 38/300\n",
      "125/125 [==============================] - 133s 1s/step - loss: 0.2051 - accuracy: 0.9561 - val_loss: 0.1801 - val_accuracy: 0.7945\n",
      "Epoch 39/300\n",
      "125/125 [==============================] - 134s 1s/step - loss: 0.2086 - accuracy: 0.9560 - val_loss: 1.0241 - val_accuracy: 0.7781\n",
      "Epoch 40/300\n",
      "125/125 [==============================] - 135s 1s/step - loss: 0.2123 - accuracy: 0.9516 - val_loss: 0.7078 - val_accuracy: 0.7973\n",
      "Epoch 41/300\n",
      "125/125 [==============================] - 135s 1s/step - loss: 0.1871 - accuracy: 0.9588 - val_loss: 0.3940 - val_accuracy: 0.7808\n",
      "Epoch 42/300\n",
      "125/125 [==============================] - 135s 1s/step - loss: 0.1788 - accuracy: 0.9649 - val_loss: 0.5203 - val_accuracy: 0.7890\n",
      "Epoch 43/300\n",
      "125/125 [==============================] - 135s 1s/step - loss: 0.2006 - accuracy: 0.9573 - val_loss: 0.8191 - val_accuracy: 0.7863\n",
      "Epoch 44/300\n",
      "125/125 [==============================] - 136s 1s/step - loss: 0.1813 - accuracy: 0.9613 - val_loss: 0.6466 - val_accuracy: 0.7808\n",
      "Epoch 45/300\n",
      "125/125 [==============================] - 135s 1s/step - loss: 0.1821 - accuracy: 0.9629 - val_loss: 0.7566 - val_accuracy: 0.8027\n",
      "Epoch 46/300\n",
      "125/125 [==============================] - 134s 1s/step - loss: 0.1844 - accuracy: 0.9595 - val_loss: 1.3318 - val_accuracy: 0.7836\n",
      "Epoch 47/300\n",
      "125/125 [==============================] - 133s 1s/step - loss: 0.1853 - accuracy: 0.9607 - val_loss: 0.6133 - val_accuracy: 0.7836\n",
      "Epoch 48/300\n",
      "125/125 [==============================] - 133s 1s/step - loss: 0.1900 - accuracy: 0.9553 - val_loss: 0.9239 - val_accuracy: 0.7836\n",
      "\n",
      "Epoch 00048: ReduceLROnPlateau reducing learning rate to 1.0000000474974514e-05.\n",
      "Epoch 49/300\n",
      "125/125 [==============================] - 133s 1s/step - loss: 0.1782 - accuracy: 0.9629 - val_loss: 0.5244 - val_accuracy: 0.7836\n",
      "Epoch 50/300\n",
      "125/125 [==============================] - 133s 1s/step - loss: 0.1559 - accuracy: 0.9689 - val_loss: 0.6326 - val_accuracy: 0.8000\n",
      "Epoch 51/300\n",
      "125/125 [==============================] - 133s 1s/step - loss: 0.1737 - accuracy: 0.9629 - val_loss: 0.6934 - val_accuracy: 0.8137\n",
      "Epoch 52/300\n",
      "125/125 [==============================] - 132s 1s/step - loss: 0.1504 - accuracy: 0.9684 - val_loss: 0.9646 - val_accuracy: 0.7863\n",
      "Epoch 53/300\n",
      "125/125 [==============================] - 133s 1s/step - loss: 0.1842 - accuracy: 0.9578 - val_loss: 0.7434 - val_accuracy: 0.7973\n",
      "Epoch 54/300\n",
      "125/125 [==============================] - 133s 1s/step - loss: 0.1600 - accuracy: 0.9664 - val_loss: 0.3800 - val_accuracy: 0.7945\n",
      "Epoch 55/300\n",
      "125/125 [==============================] - 133s 1s/step - loss: 0.1781 - accuracy: 0.9655 - val_loss: 1.6386 - val_accuracy: 0.7808\n",
      "Epoch 56/300\n",
      "125/125 [==============================] - 132s 1s/step - loss: 0.1716 - accuracy: 0.9637 - val_loss: 0.5022 - val_accuracy: 0.7918\n",
      "Epoch 57/300\n",
      "125/125 [==============================] - 133s 1s/step - loss: 0.1647 - accuracy: 0.9675 - val_loss: 0.4930 - val_accuracy: 0.7836\n",
      "Epoch 58/300\n",
      "125/125 [==============================] - 132s 1s/step - loss: 0.1745 - accuracy: 0.9622 - val_loss: 0.9210 - val_accuracy: 0.7918\n",
      "\n",
      "Epoch 00058: ReduceLROnPlateau reducing learning rate to 1.0000000656873453e-06.\n",
      "Epoch 59/300\n",
      "125/125 [==============================] - 132s 1s/step - loss: 0.1691 - accuracy: 0.9689 - val_loss: 0.6839 - val_accuracy: 0.7973\n",
      "Epoch 60/300\n",
      "125/125 [==============================] - 132s 1s/step - loss: 0.1580 - accuracy: 0.9704 - val_loss: 0.8918 - val_accuracy: 0.7726\n",
      "Epoch 61/300\n",
      "125/125 [==============================] - 132s 1s/step - loss: 0.1729 - accuracy: 0.9618 - val_loss: 0.8345 - val_accuracy: 0.7808\n",
      "Epoch 62/300\n",
      "125/125 [==============================] - 134s 1s/step - loss: 0.1746 - accuracy: 0.9640 - val_loss: 0.5247 - val_accuracy: 0.7890\n",
      "Epoch 63/300\n",
      "125/125 [==============================] - 134s 1s/step - loss: 0.1679 - accuracy: 0.9659 - val_loss: 0.3926 - val_accuracy: 0.8027\n",
      "Epoch 64/300\n",
      "125/125 [==============================] - 142s 1s/step - loss: 0.1724 - accuracy: 0.9642 - val_loss: 0.4878 - val_accuracy: 0.8055\n",
      "Epoch 65/300\n",
      "125/125 [==============================] - 139s 1s/step - loss: 0.1587 - accuracy: 0.9674 - val_loss: 0.5520 - val_accuracy: 0.7973\n",
      "Epoch 66/300\n",
      "125/125 [==============================] - 138s 1s/step - loss: 0.1807 - accuracy: 0.9639 - val_loss: 0.7616 - val_accuracy: 0.7781\n",
      "Epoch 67/300\n",
      "125/125 [==============================] - 140s 1s/step - loss: 0.1797 - accuracy: 0.9623 - val_loss: 0.4776 - val_accuracy: 0.7808\n",
      "Epoch 68/300\n",
      "125/125 [==============================] - 140s 1s/step - loss: 0.1467 - accuracy: 0.9739 - val_loss: 0.3632 - val_accuracy: 0.7890\n",
      "\n",
      "Epoch 00068: ReduceLROnPlateau reducing learning rate to 1.0000001111620805e-07.\n",
      "Epoch 69/300\n",
      "125/125 [==============================] - 139s 1s/step - loss: 0.1781 - accuracy: 0.9625 - val_loss: 0.5324 - val_accuracy: 0.7863\n",
      "Epoch 70/300\n",
      "125/125 [==============================] - 136s 1s/step - loss: 0.1641 - accuracy: 0.9664 - val_loss: 0.4209 - val_accuracy: 0.8000\n",
      "Epoch 71/300\n",
      "125/125 [==============================] - 136s 1s/step - loss: 0.1664 - accuracy: 0.9629 - val_loss: 0.5064 - val_accuracy: 0.7918\n",
      "Epoch 72/300\n",
      "125/125 [==============================] - 134s 1s/step - loss: 0.1899 - accuracy: 0.9597 - val_loss: 0.5111 - val_accuracy: 0.7781\n",
      "Epoch 73/300\n",
      "125/125 [==============================] - 136s 1s/step - loss: 0.1583 - accuracy: 0.9684 - val_loss: 0.3143 - val_accuracy: 0.7726\n",
      "Restoring model weights from the end of the best epoch\n",
      "Epoch 00073: early stopping\n"
     ]
    }
   ],
   "source": [
    "history = model.fit_generator(train_generator,\n",
    "                    epochs=300,\n",
    "                    steps_per_epoch=train_generator.n//batch_size,\n",
    "                    validation_data=train_data_gen.flow(x_val,y_val,batch_size=16),\n",
    "                    callbacks=[rlr,es,mc])\n",
    "                    "
   ]
  },
  {
   "cell_type": "markdown",
   "id": "5dba4aab",
   "metadata": {},
   "source": [
    "# Post model metrics"
   ]
  },
  {
   "cell_type": "code",
   "execution_count": 132,
   "id": "6c0f0376",
   "metadata": {},
   "outputs": [],
   "source": [
    "history_data = history.history"
   ]
  },
  {
   "cell_type": "code",
   "execution_count": 133,
   "id": "7c930d7c",
   "metadata": {},
   "outputs": [
    {
     "data": {
      "text/plain": [
       "<function matplotlib.pyplot.show(close=None, block=None)>"
      ]
     },
     "execution_count": 133,
     "metadata": {},
     "output_type": "execute_result"
    },
    {
     "data": {
      "image/png": "[encoded data removed]",
      "text/plain": [
       "<Figure size 432x288 with 1 Axes>"
      ]
     },
     "metadata": {
      "needs_background": "light"
     },
     "output_type": "display_data"
    }
   ],
   "source": [
    "plt.plot(history_data['loss'])\n",
    "plt.plot(history_data['val_loss'])\n",
    "plt.title('Model loss')\n",
    "plt.xlabel('epoch')\n",
    "plt.ylabel('loss')\n",
    "plt.legend(['train','val'],loc='best')\n",
    "plt.show"
   ]
  },
  {
   "cell_type": "code",
   "execution_count": 134,
   "id": "006ca279",
   "metadata": {},
   "outputs": [
    {
     "data": {
      "text/plain": [
       "<function matplotlib.pyplot.show(close=None, block=None)>"
      ]
     },
     "execution_count": 134,
     "metadata": {},
     "output_type": "execute_result"
    },
    {
     "data": {
      "image/png": "[encoded data removed]",
      "text/plain": [
       "<Figure size 432x288 with 1 Axes>"
      ]
     },
     "metadata": {
      "needs_background": "light"
     },
     "output_type": "display_data"
    }
   ],
   "source": [
    "plt.plot(history_data['accuracy'])\n",
    "plt.plot(history_data['val_accuracy'])\n",
    "plt.title('Model acc')\n",
    "plt.xlabel('epoch')\n",
    "plt.ylabel('acc')\n",
    "plt.legend(['train','val'],loc='best')\n",
    "plt.show"
   ]
  },
  {
   "cell_type": "code",
   "execution_count": null,
   "id": "92907ba3",
   "metadata": {},
   "outputs": [],
   "source": [
    "#Wytrenowany model wykazuje dokładność na poziomie ~78% na zbiorze walidacyjnym. Jednak niepokojąca jest niestabilna i wysoka wartość val_loss. \n",
    "# Może to byś spowodowane zbyt dużym zbiorem danych na jednostkę uczenia albo złym doborem warstw. Trzeba skupić się jeszcze nad formatowaniem danych do uczenia. \n",
    "#Można dodać więcej atrybutów dla generatora obrazu oraz dopracować warstwy konwulucyjne. W celu analizy skuteczności wybrałem parametry accuracy i loss. \n",
    "#Biorąć pod uwagę dokładność model wydaje się uczyć na dobrym poziomie bez większych problemów. Jednak patrząc na wartości strat widać, że model jest niestabilny i wymaga dopracowania. "
   ]
  },
  {
   "cell_type": "markdown",
   "id": "fb93dd2b",
   "metadata": {},
   "source": [
    "# Test data preparation "
   ]
  },
  {
   "cell_type": "code",
   "execution_count": 136,
   "id": "779f1e51",
   "metadata": {},
   "outputs": [],
   "source": [
    "test_data=pd.read_csv('test.csv')"
   ]
  },
  {
   "cell_type": "code",
   "execution_count": 139,
   "id": "064dbf5c",
   "metadata": {},
   "outputs": [
    {
     "name": "stderr",
     "output_type": "stream",
     "text": [
      "100%|██████████| 1821/1821 [00:37<00:00, 48.13it/s]\n"
     ]
    }
   ],
   "source": [
    "test_x = []\n",
    "for i in tqdm.tqdm(range(data.shape[0])):\n",
    "    img = image.load_img(train_dir+test_data['image_id'][i]+'.jpg',color_mode='rgb',target_size=(image_size,image_size))\n",
    "    img= image.img_to_array(img)\n",
    "    img= img/255\n",
    "    test_x.append(img)\n",
    "    \n",
    "test_x = np.array(test_x)"
   ]
  },
  {
   "cell_type": "code",
   "execution_count": 141,
   "id": "168a3cf3",
   "metadata": {},
   "outputs": [],
   "source": [
    "pred = model.predict(test_x)"
   ]
  },
  {
   "cell_type": "code",
   "execution_count": 144,
   "id": "87f7c5ab",
   "metadata": {},
   "outputs": [
    {
     "data": {
      "text/html": [
       "<div>\n",
       "<style scoped>\n",
       "    .dataframe tbody tr th:only-of-type {\n",
       "        vertical-align: middle;\n",
       "    }\n",
       "\n",
       "    .dataframe tbody tr th {\n",
       "        vertical-align: top;\n",
       "    }\n",
       "\n",
       "    .dataframe thead th {\n",
       "        text-align: right;\n",
       "    }\n",
       "</style>\n",
       "<table border=\"1\" class=\"dataframe\">\n",
       "  <thead>\n",
       "    <tr style=\"text-align: right;\">\n",
       "      <th></th>\n",
       "      <th>image_id</th>\n",
       "      <th>healthy</th>\n",
       "      <th>multiple_diseases</th>\n",
       "      <th>rust</th>\n",
       "      <th>scab</th>\n",
       "    </tr>\n",
       "  </thead>\n",
       "  <tbody>\n",
       "    <tr>\n",
       "      <th>0</th>\n",
       "      <td>Test_0</td>\n",
       "      <td>0.467407</td>\n",
       "      <td>0.106360</td>\n",
       "      <td>0.076291</td>\n",
       "      <td>0.349942</td>\n",
       "    </tr>\n",
       "    <tr>\n",
       "      <th>1</th>\n",
       "      <td>Test_1</td>\n",
       "      <td>0.464268</td>\n",
       "      <td>0.110421</td>\n",
       "      <td>0.076289</td>\n",
       "      <td>0.349022</td>\n",
       "    </tr>\n",
       "    <tr>\n",
       "      <th>2</th>\n",
       "      <td>Test_2</td>\n",
       "      <td>0.464919</td>\n",
       "      <td>0.107589</td>\n",
       "      <td>0.076365</td>\n",
       "      <td>0.351127</td>\n",
       "    </tr>\n",
       "    <tr>\n",
       "      <th>3</th>\n",
       "      <td>Test_3</td>\n",
       "      <td>0.472837</td>\n",
       "      <td>0.107087</td>\n",
       "      <td>0.073585</td>\n",
       "      <td>0.346491</td>\n",
       "    </tr>\n",
       "    <tr>\n",
       "      <th>4</th>\n",
       "      <td>Test_4</td>\n",
       "      <td>0.459871</td>\n",
       "      <td>0.115147</td>\n",
       "      <td>0.081296</td>\n",
       "      <td>0.343686</td>\n",
       "    </tr>\n",
       "    <tr>\n",
       "      <th>...</th>\n",
       "      <td>...</td>\n",
       "      <td>...</td>\n",
       "      <td>...</td>\n",
       "      <td>...</td>\n",
       "      <td>...</td>\n",
       "    </tr>\n",
       "    <tr>\n",
       "      <th>1816</th>\n",
       "      <td>Test_1816</td>\n",
       "      <td>0.461035</td>\n",
       "      <td>0.111613</td>\n",
       "      <td>0.078345</td>\n",
       "      <td>0.349007</td>\n",
       "    </tr>\n",
       "    <tr>\n",
       "      <th>1817</th>\n",
       "      <td>Test_1817</td>\n",
       "      <td>0.470466</td>\n",
       "      <td>0.111550</td>\n",
       "      <td>0.077059</td>\n",
       "      <td>0.340924</td>\n",
       "    </tr>\n",
       "    <tr>\n",
       "      <th>1818</th>\n",
       "      <td>Test_1818</td>\n",
       "      <td>0.468591</td>\n",
       "      <td>0.109441</td>\n",
       "      <td>0.075229</td>\n",
       "      <td>0.346739</td>\n",
       "    </tr>\n",
       "    <tr>\n",
       "      <th>1819</th>\n",
       "      <td>Test_1819</td>\n",
       "      <td>0.468804</td>\n",
       "      <td>0.106619</td>\n",
       "      <td>0.073787</td>\n",
       "      <td>0.350789</td>\n",
       "    </tr>\n",
       "    <tr>\n",
       "      <th>1820</th>\n",
       "      <td>Test_1820</td>\n",
       "      <td>0.467314</td>\n",
       "      <td>0.111027</td>\n",
       "      <td>0.074537</td>\n",
       "      <td>0.347123</td>\n",
       "    </tr>\n",
       "  </tbody>\n",
       "</table>\n",
       "<p>1821 rows × 5 columns</p>\n",
       "</div>"
      ],
      "text/plain": [
       "       image_id   healthy  multiple_diseases      rust      scab\n",
       "0        Test_0  0.467407           0.106360  0.076291  0.349942\n",
       "1        Test_1  0.464268           0.110421  0.076289  0.349022\n",
       "2        Test_2  0.464919           0.107589  0.076365  0.351127\n",
       "3        Test_3  0.472837           0.107087  0.073585  0.346491\n",
       "4        Test_4  0.459871           0.115147  0.081296  0.343686\n",
       "...         ...       ...                ...       ...       ...\n",
       "1816  Test_1816  0.461035           0.111613  0.078345  0.349007\n",
       "1817  Test_1817  0.470466           0.111550  0.077059  0.340924\n",
       "1818  Test_1818  0.468591           0.109441  0.075229  0.346739\n",
       "1819  Test_1819  0.468804           0.106619  0.073787  0.350789\n",
       "1820  Test_1820  0.467314           0.111027  0.074537  0.347123\n",
       "\n",
       "[1821 rows x 5 columns]"
      ]
     },
     "execution_count": 144,
     "metadata": {},
     "output_type": "execute_result"
    }
   ],
   "source": [
    "sub = pd.read_csv('sample_submission.csv')\n",
    "submission = pd.DataFrame(pred)\n",
    "submission.columns = ['healthy', 'multiple_diseases', 'rust', 'scab']\n",
    "submission['image_id'] = sub['image_id']\n",
    "submission = submission[['image_id','healthy', 'multiple_diseases', 'rust', 'scab']]\n",
    "submission.to_csv('submission.csv',index=False)\n",
    "submission\n"
   ]
  },
  {
   "cell_type": "code",
   "execution_count": null,
   "id": "923dd9b2",
   "metadata": {},
   "outputs": [],
   "source": []
  }
 ],
 "metadata": {
  "kernelspec": {
   "display_name": "Python 3",
   "language": "python",
   "name": "python3"
  },
  "language_info": {
   "codemirror_mode": {
    "name": "ipython",
    "version": 3
   },
   "file_extension": ".py",
   "mimetype": "text/x-python",
   "name": "python",
   "nbconvert_exporter": "python",
   "pygments_lexer": "ipython3",
   "version": "3.7.10"
  }
 },
 "nbformat": 4,
 "nbformat_minor": 5
}
